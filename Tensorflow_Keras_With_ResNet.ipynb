{
  "nbformat": 4,
  "nbformat_minor": 0,
  "metadata": {
    "colab": {
      "provenance": [],
      "mount_file_id": "1tsLYuFmPB_l45tabRqnKDBN8IppLNgMI",
      "authorship_tag": "ABX9TyOpD/Gv+CofctylHVqQi84R",
      "include_colab_link": true
    },
    "kernelspec": {
      "name": "python3",
      "display_name": "Python 3"
    },
    "language_info": {
      "name": "python"
    }
  },
  "cells": [
    {
      "cell_type": "markdown",
      "metadata": {
        "id": "view-in-github",
        "colab_type": "text"
      },
      "source": [
        "<a href=\"https://colab.research.google.com/github/Farshad127/Machine-Vision/blob/main/Tensorflow_Keras_With_ResNet.ipynb\" target=\"_parent\"><img src=\"https://colab.research.google.com/assets/colab-badge.svg\" alt=\"Open In Colab\"/></a>"
      ]
    },
    {
      "cell_type": "code",
      "execution_count": 1,
      "metadata": {
        "id": "I3xTcSIJ_wfX"
      },
      "outputs": [],
      "source": [
        "import pickle\n",
        "import numpy as np\n",
        "import tensorflow as tf\n",
        "from tensorflow import keras\n",
        "from tensorflow.keras.applications import VGG16\n",
        "from tensorflow.keras import layers, models\n",
        "\n",
        "\n",
        "import pandas as pd\n",
        "import matplotlib.pyplot as plt"
      ]
    },
    {
      "cell_type": "code",
      "source": [
        "#Function for reading the batch files\n",
        "def load_cifar10_batch(file_path):\n",
        "    with open(file_path, 'rb') as file:\n",
        "        batch = pickle.load(file, encoding='bytes')\n",
        "    return batch"
      ],
      "metadata": {
        "id": "K9G00sWAESex"
      },
      "execution_count": 2,
      "outputs": []
    },
    {
      "cell_type": "code",
      "source": [
        "# Specify the paths to the CIFAR-10 dataset batches\n",
        "file_paths = [\n",
        "    '/content/drive/MyDrive/Colab Notebooks/cifar-10-batches-py/data_batch_1',\n",
        "    '/content/drive/MyDrive/Colab Notebooks/cifar-10-batches-py/data_batch_2',\n",
        "    '/content/drive/MyDrive/Colab Notebooks/cifar-10-batches-py/data_batch_3',\n",
        "    '/content/drive/MyDrive/Colab Notebooks/cifar-10-batches-py/data_batch_4',\n",
        "    '/content/drive/MyDrive/Colab Notebooks/cifar-10-batches-py/data_batch_5'\n",
        "]\n",
        "\n",
        "\n",
        "# Load and concatenate the CIFAR-10 batches\n",
        "images = []\n",
        "labels = []\n",
        "\n",
        "for file_path in file_paths:\n",
        "    cifar_batch = load_cifar10_batch(file_path)\n",
        "    images.append(cifar_batch[b'data'])\n",
        "    labels.extend(cifar_batch[b'labels'])\n",
        "\n",
        "\n",
        "# Concatenate the batches into a single training dataset\n",
        "x_train = np.concatenate(images, axis=0)\n",
        "y_train = np.array(labels)\n",
        "\n",
        "print(np.shape(x_train))\n",
        "print(np.shape(y_train))\n",
        "x_train"
      ],
      "metadata": {
        "colab": {
          "base_uri": "https://localhost:8080/"
        },
        "id": "LgT39RsQFWI0",
        "outputId": "083f58fb-e119-4ddd-f154-dcc6ee38b2e1"
      },
      "execution_count": 3,
      "outputs": [
        {
          "output_type": "stream",
          "name": "stdout",
          "text": [
            "(50000, 3072)\n",
            "(50000,)\n"
          ]
        },
        {
          "output_type": "execute_result",
          "data": {
            "text/plain": [
              "array([[ 59,  43,  50, ..., 140,  84,  72],\n",
              "       [154, 126, 105, ..., 139, 142, 144],\n",
              "       [255, 253, 253, ...,  83,  83,  84],\n",
              "       ...,\n",
              "       [ 35,  40,  42, ...,  77,  66,  50],\n",
              "       [189, 186, 185, ..., 169, 171, 171],\n",
              "       [229, 236, 234, ..., 173, 162, 161]], dtype=uint8)"
            ]
          },
          "metadata": {},
          "execution_count": 3
        }
      ]
    },
    {
      "cell_type": "code",
      "source": [
        "# Load the CIFAR-10 test_batch\n",
        "\n",
        "test_cifar_batch = load_cifar10_batch('/content/drive/MyDrive/Colab Notebooks/cifar-10-batches-py/test_batch')\n",
        "\n",
        "test_images = []\n",
        "test_labels =[]\n",
        "test_images.append(test_cifar_batch[b'data'])\n",
        "test_labels.extend(test_cifar_batch[b'labels'])\n",
        "\n",
        "# Concatenate x_test\n",
        "\n",
        "x_test = np.concatenate (test_images, axis=0)\n",
        "y_test = test_labels\n",
        "\n",
        "print(np.shape(x_test))\n",
        "print(np.shape(y_test))\n",
        "x_test\n"
      ],
      "metadata": {
        "colab": {
          "base_uri": "https://localhost:8080/"
        },
        "id": "cypoAbCzIByc",
        "outputId": "4fb35155-8697-4a4d-e213-5ac3ca4627d2"
      },
      "execution_count": 4,
      "outputs": [
        {
          "output_type": "stream",
          "name": "stdout",
          "text": [
            "(10000, 3072)\n",
            "(10000,)\n"
          ]
        },
        {
          "output_type": "execute_result",
          "data": {
            "text/plain": [
              "array([[158, 159, 165, ..., 124, 129, 110],\n",
              "       [235, 231, 232, ..., 178, 191, 199],\n",
              "       [158, 158, 139, ...,   8,   3,   7],\n",
              "       ...,\n",
              "       [ 20,  19,  15, ...,  50,  53,  47],\n",
              "       [ 25,  15,  23, ...,  80,  81,  80],\n",
              "       [ 73,  98,  99, ...,  94,  58,  26]], dtype=uint8)"
            ]
          },
          "metadata": {},
          "execution_count": 4
        }
      ]
    },
    {
      "cell_type": "code",
      "source": [
        "# Reshape the input data\n",
        "x_train = np.reshape(x_train, (-1, 32, 32, 3))\n",
        "x_test = np.reshape(x_test, (-1, 32, 32, 3))\n",
        "\n",
        "\n",
        "print('x_train')\n",
        "print(np.shape(x_train))\n",
        "print('-----------------------')\n",
        "print('x_test_reshape')\n",
        "#print(np.shape(x_train_reshape))\n",
        "\n",
        "#x_test_reshape = np.reshape(x_test, (-1, 32, 32, 3))\n",
        "print(np.shape(x_test))"
      ],
      "metadata": {
        "colab": {
          "base_uri": "https://localhost:8080/"
        },
        "id": "K1RCQpvVbZxo",
        "outputId": "a92b2569-3603-4e7e-94fe-8c51bda6561f"
      },
      "execution_count": 5,
      "outputs": [
        {
          "output_type": "stream",
          "name": "stdout",
          "text": [
            "x_train\n",
            "(50000, 32, 32, 3)\n",
            "-----------------------\n",
            "x_test_reshape\n",
            "(10000, 32, 32, 3)\n"
          ]
        }
      ]
    },
    {
      "cell_type": "code",
      "source": [
        "# Normalize pixel values between 0 and 1\n",
        "x_train = x_train.astype('float32') / 255\n",
        "x_test = x_test.astype('float32') / 255\n",
        "\n",
        "\n",
        "# Convert class vectors to binary class matrices\n",
        "y_train = keras.utils.to_categorical(y_train, num_classes=10)\n",
        "y_test = keras.utils.to_categorical(y_test, num_classes=10)\n",
        "\n",
        "\n"
      ],
      "metadata": {
        "id": "hMi4iGtSL7V2"
      },
      "execution_count": 6,
      "outputs": []
    },
    {
      "cell_type": "code",
      "source": [
        "#Just for testing the Hot Encoding function for my data\n",
        "#y_train_hot = keras.utils.to_categorical(y_train, num_classes=10)\n",
        "#print(y_train_hot)\n",
        "#print(y_train)\n",
        "#print(np.shape(y_train))\n",
        "#print(np.shape(y_train_hot))"
      ],
      "metadata": {
        "id": "YB9ctyodRSFs"
      },
      "execution_count": null,
      "outputs": []
    },
    {
      "cell_type": "code",
      "source": [
        "# Using Pandas library for better understanding the matrix\n",
        "\n",
        "#df = pd.DataFrame(y_train)\n",
        "#df\n",
        "#np.shape(y_train)"
      ],
      "metadata": {
        "colab": {
          "base_uri": "https://localhost:8080/"
        },
        "id": "_8dZIVU5SPyO",
        "outputId": "f0cb0e31-39af-454b-e26a-ada1495d67a0"
      },
      "execution_count": null,
      "outputs": [
        {
          "output_type": "execute_result",
          "data": {
            "text/plain": [
              "(30000, 10)"
            ]
          },
          "metadata": {},
          "execution_count": 21
        }
      ]
    },
    {
      "cell_type": "code",
      "source": [
        "def resnet_block(inputs, num_filters, kernel_size, strides):\n",
        "    x = layers.Conv2D(num_filters, kernel_size=kernel_size, strides=strides, padding='same')(inputs)\n",
        "    x = layers.BatchNormalization()(x)\n",
        "    x = layers.Activation('relu')(x)\n",
        "\n",
        "    x = layers.Conv2D(num_filters, kernel_size=kernel_size, padding='same')(x)\n",
        "    x = layers.BatchNormalization()(x)\n",
        "\n",
        "    # Skip connection\n",
        "    if strides > 1:\n",
        "        inputs = layers.Conv2D(num_filters, kernel_size=1, strides=strides, padding='same')(inputs)\n",
        "    x = layers.Add()([x, inputs])\n",
        "    x = layers.Activation('relu')(x)\n",
        "    return x\n",
        "\n",
        "def build_resnet(input_shape, num_classes):\n",
        "    inputs = layers.Input(shape=input_shape)\n",
        "\n",
        "    x = layers.Conv2D(64, kernel_size=7, strides=2, padding='same')(inputs)\n",
        "    x = layers.BatchNormalization()(x)\n",
        "    x = layers.Activation('relu')(x)\n",
        "    x = layers.MaxPooling2D(pool_size=3, strides=2, padding='same')(x)\n",
        "\n",
        "    x = resnet_block(x, num_filters=64, kernel_size=3, strides=1)\n",
        "    x = resnet_block(x, num_filters=64, kernel_size=3, strides=1)\n",
        "    x = resnet_block(x, num_filters=64, kernel_size=3, strides=1)\n",
        "\n",
        "    x = resnet_block(x, num_filters=128, kernel_size=3, strides=2)\n",
        "    x = resnet_block(x, num_filters=128, kernel_size=3, strides=1)\n",
        "    x = resnet_block(x, num_filters=128, kernel_size=3, strides=1)\n",
        "\n",
        "    x = resnet_block(x, num_filters=256, kernel_size=3, strides=2)\n",
        "    x = resnet_block(x, num_filters=256, kernel_size=3, strides=1)\n",
        "    x = resnet_block(x, num_filters=256, kernel_size=3, strides=1)\n",
        "\n",
        "    x = resnet_block(x, num_filters=512, kernel_size=3, strides=2)\n",
        "    x = resnet_block(x, num_filters=512, kernel_size=3, strides=1)\n",
        "    x = resnet_block(x, num_filters=512, kernel_size=3, strides=1)\n",
        "\n",
        "    x = layers.GlobalAveragePooling2D()(x)\n",
        "    x = layers.Dense(256, activation='relu')(x)\n",
        "    x = layers.Dropout(0.5)(x)\n",
        "    outputs = layers.Dense(num_classes, activation='softmax')(x)\n",
        "\n",
        "    model = models.Model(inputs=inputs, outputs=outputs)\n",
        "    return model\n",
        "\n",
        "# Create the ResNet model\n",
        "input_shape = (32, 32, 3)  # Adjust input shape based on your dataset\n",
        "num_classes = 10  # Adjust the number of classes based on your classification task\n",
        "resnet_model = build_resnet(input_shape, num_classes)\n",
        "\n",
        "# Compile the model\n",
        "resnet_model.compile(optimizer='adam', loss='categorical_crossentropy', metrics=['accuracy'])\n",
        "\n",
        "# Print the model summary\n",
        "resnet_model.summary()\n",
        "\n"
      ],
      "metadata": {
        "colab": {
          "base_uri": "https://localhost:8080/"
        },
        "id": "j3Cmll35cYbk",
        "outputId": "5019cd0a-ca2a-4560-856e-7ecf8ef1b14e"
      },
      "execution_count": 7,
      "outputs": [
        {
          "output_type": "stream",
          "name": "stdout",
          "text": [
            "Model: \"model\"\n",
            "__________________________________________________________________________________________________\n",
            " Layer (type)                   Output Shape         Param #     Connected to                     \n",
            "==================================================================================================\n",
            " input_1 (InputLayer)           [(None, 32, 32, 3)]  0           []                               \n",
            "                                                                                                  \n",
            " conv2d (Conv2D)                (None, 16, 16, 64)   9472        ['input_1[0][0]']                \n",
            "                                                                                                  \n",
            " batch_normalization (BatchNorm  (None, 16, 16, 64)  256         ['conv2d[0][0]']                 \n",
            " alization)                                                                                       \n",
            "                                                                                                  \n",
            " activation (Activation)        (None, 16, 16, 64)   0           ['batch_normalization[0][0]']    \n",
            "                                                                                                  \n",
            " max_pooling2d (MaxPooling2D)   (None, 8, 8, 64)     0           ['activation[0][0]']             \n",
            "                                                                                                  \n",
            " conv2d_1 (Conv2D)              (None, 8, 8, 64)     36928       ['max_pooling2d[0][0]']          \n",
            "                                                                                                  \n",
            " batch_normalization_1 (BatchNo  (None, 8, 8, 64)    256         ['conv2d_1[0][0]']               \n",
            " rmalization)                                                                                     \n",
            "                                                                                                  \n",
            " activation_1 (Activation)      (None, 8, 8, 64)     0           ['batch_normalization_1[0][0]']  \n",
            "                                                                                                  \n",
            " conv2d_2 (Conv2D)              (None, 8, 8, 64)     36928       ['activation_1[0][0]']           \n",
            "                                                                                                  \n",
            " batch_normalization_2 (BatchNo  (None, 8, 8, 64)    256         ['conv2d_2[0][0]']               \n",
            " rmalization)                                                                                     \n",
            "                                                                                                  \n",
            " add (Add)                      (None, 8, 8, 64)     0           ['batch_normalization_2[0][0]',  \n",
            "                                                                  'max_pooling2d[0][0]']          \n",
            "                                                                                                  \n",
            " activation_2 (Activation)      (None, 8, 8, 64)     0           ['add[0][0]']                    \n",
            "                                                                                                  \n",
            " conv2d_3 (Conv2D)              (None, 8, 8, 64)     36928       ['activation_2[0][0]']           \n",
            "                                                                                                  \n",
            " batch_normalization_3 (BatchNo  (None, 8, 8, 64)    256         ['conv2d_3[0][0]']               \n",
            " rmalization)                                                                                     \n",
            "                                                                                                  \n",
            " activation_3 (Activation)      (None, 8, 8, 64)     0           ['batch_normalization_3[0][0]']  \n",
            "                                                                                                  \n",
            " conv2d_4 (Conv2D)              (None, 8, 8, 64)     36928       ['activation_3[0][0]']           \n",
            "                                                                                                  \n",
            " batch_normalization_4 (BatchNo  (None, 8, 8, 64)    256         ['conv2d_4[0][0]']               \n",
            " rmalization)                                                                                     \n",
            "                                                                                                  \n",
            " add_1 (Add)                    (None, 8, 8, 64)     0           ['batch_normalization_4[0][0]',  \n",
            "                                                                  'activation_2[0][0]']           \n",
            "                                                                                                  \n",
            " activation_4 (Activation)      (None, 8, 8, 64)     0           ['add_1[0][0]']                  \n",
            "                                                                                                  \n",
            " conv2d_5 (Conv2D)              (None, 8, 8, 64)     36928       ['activation_4[0][0]']           \n",
            "                                                                                                  \n",
            " batch_normalization_5 (BatchNo  (None, 8, 8, 64)    256         ['conv2d_5[0][0]']               \n",
            " rmalization)                                                                                     \n",
            "                                                                                                  \n",
            " activation_5 (Activation)      (None, 8, 8, 64)     0           ['batch_normalization_5[0][0]']  \n",
            "                                                                                                  \n",
            " conv2d_6 (Conv2D)              (None, 8, 8, 64)     36928       ['activation_5[0][0]']           \n",
            "                                                                                                  \n",
            " batch_normalization_6 (BatchNo  (None, 8, 8, 64)    256         ['conv2d_6[0][0]']               \n",
            " rmalization)                                                                                     \n",
            "                                                                                                  \n",
            " add_2 (Add)                    (None, 8, 8, 64)     0           ['batch_normalization_6[0][0]',  \n",
            "                                                                  'activation_4[0][0]']           \n",
            "                                                                                                  \n",
            " activation_6 (Activation)      (None, 8, 8, 64)     0           ['add_2[0][0]']                  \n",
            "                                                                                                  \n",
            " conv2d_7 (Conv2D)              (None, 4, 4, 128)    73856       ['activation_6[0][0]']           \n",
            "                                                                                                  \n",
            " batch_normalization_7 (BatchNo  (None, 4, 4, 128)   512         ['conv2d_7[0][0]']               \n",
            " rmalization)                                                                                     \n",
            "                                                                                                  \n",
            " activation_7 (Activation)      (None, 4, 4, 128)    0           ['batch_normalization_7[0][0]']  \n",
            "                                                                                                  \n",
            " conv2d_8 (Conv2D)              (None, 4, 4, 128)    147584      ['activation_7[0][0]']           \n",
            "                                                                                                  \n",
            " batch_normalization_8 (BatchNo  (None, 4, 4, 128)   512         ['conv2d_8[0][0]']               \n",
            " rmalization)                                                                                     \n",
            "                                                                                                  \n",
            " conv2d_9 (Conv2D)              (None, 4, 4, 128)    8320        ['activation_6[0][0]']           \n",
            "                                                                                                  \n",
            " add_3 (Add)                    (None, 4, 4, 128)    0           ['batch_normalization_8[0][0]',  \n",
            "                                                                  'conv2d_9[0][0]']               \n",
            "                                                                                                  \n",
            " activation_8 (Activation)      (None, 4, 4, 128)    0           ['add_3[0][0]']                  \n",
            "                                                                                                  \n",
            " conv2d_10 (Conv2D)             (None, 4, 4, 128)    147584      ['activation_8[0][0]']           \n",
            "                                                                                                  \n",
            " batch_normalization_9 (BatchNo  (None, 4, 4, 128)   512         ['conv2d_10[0][0]']              \n",
            " rmalization)                                                                                     \n",
            "                                                                                                  \n",
            " activation_9 (Activation)      (None, 4, 4, 128)    0           ['batch_normalization_9[0][0]']  \n",
            "                                                                                                  \n",
            " conv2d_11 (Conv2D)             (None, 4, 4, 128)    147584      ['activation_9[0][0]']           \n",
            "                                                                                                  \n",
            " batch_normalization_10 (BatchN  (None, 4, 4, 128)   512         ['conv2d_11[0][0]']              \n",
            " ormalization)                                                                                    \n",
            "                                                                                                  \n",
            " add_4 (Add)                    (None, 4, 4, 128)    0           ['batch_normalization_10[0][0]', \n",
            "                                                                  'activation_8[0][0]']           \n",
            "                                                                                                  \n",
            " activation_10 (Activation)     (None, 4, 4, 128)    0           ['add_4[0][0]']                  \n",
            "                                                                                                  \n",
            " conv2d_12 (Conv2D)             (None, 4, 4, 128)    147584      ['activation_10[0][0]']          \n",
            "                                                                                                  \n",
            " batch_normalization_11 (BatchN  (None, 4, 4, 128)   512         ['conv2d_12[0][0]']              \n",
            " ormalization)                                                                                    \n",
            "                                                                                                  \n",
            " activation_11 (Activation)     (None, 4, 4, 128)    0           ['batch_normalization_11[0][0]'] \n",
            "                                                                                                  \n",
            " conv2d_13 (Conv2D)             (None, 4, 4, 128)    147584      ['activation_11[0][0]']          \n",
            "                                                                                                  \n",
            " batch_normalization_12 (BatchN  (None, 4, 4, 128)   512         ['conv2d_13[0][0]']              \n",
            " ormalization)                                                                                    \n",
            "                                                                                                  \n",
            " add_5 (Add)                    (None, 4, 4, 128)    0           ['batch_normalization_12[0][0]', \n",
            "                                                                  'activation_10[0][0]']          \n",
            "                                                                                                  \n",
            " activation_12 (Activation)     (None, 4, 4, 128)    0           ['add_5[0][0]']                  \n",
            "                                                                                                  \n",
            " conv2d_14 (Conv2D)             (None, 2, 2, 256)    295168      ['activation_12[0][0]']          \n",
            "                                                                                                  \n",
            " batch_normalization_13 (BatchN  (None, 2, 2, 256)   1024        ['conv2d_14[0][0]']              \n",
            " ormalization)                                                                                    \n",
            "                                                                                                  \n",
            " activation_13 (Activation)     (None, 2, 2, 256)    0           ['batch_normalization_13[0][0]'] \n",
            "                                                                                                  \n",
            " conv2d_15 (Conv2D)             (None, 2, 2, 256)    590080      ['activation_13[0][0]']          \n",
            "                                                                                                  \n",
            " batch_normalization_14 (BatchN  (None, 2, 2, 256)   1024        ['conv2d_15[0][0]']              \n",
            " ormalization)                                                                                    \n",
            "                                                                                                  \n",
            " conv2d_16 (Conv2D)             (None, 2, 2, 256)    33024       ['activation_12[0][0]']          \n",
            "                                                                                                  \n",
            " add_6 (Add)                    (None, 2, 2, 256)    0           ['batch_normalization_14[0][0]', \n",
            "                                                                  'conv2d_16[0][0]']              \n",
            "                                                                                                  \n",
            " activation_14 (Activation)     (None, 2, 2, 256)    0           ['add_6[0][0]']                  \n",
            "                                                                                                  \n",
            " conv2d_17 (Conv2D)             (None, 2, 2, 256)    590080      ['activation_14[0][0]']          \n",
            "                                                                                                  \n",
            " batch_normalization_15 (BatchN  (None, 2, 2, 256)   1024        ['conv2d_17[0][0]']              \n",
            " ormalization)                                                                                    \n",
            "                                                                                                  \n",
            " activation_15 (Activation)     (None, 2, 2, 256)    0           ['batch_normalization_15[0][0]'] \n",
            "                                                                                                  \n",
            " conv2d_18 (Conv2D)             (None, 2, 2, 256)    590080      ['activation_15[0][0]']          \n",
            "                                                                                                  \n",
            " batch_normalization_16 (BatchN  (None, 2, 2, 256)   1024        ['conv2d_18[0][0]']              \n",
            " ormalization)                                                                                    \n",
            "                                                                                                  \n",
            " add_7 (Add)                    (None, 2, 2, 256)    0           ['batch_normalization_16[0][0]', \n",
            "                                                                  'activation_14[0][0]']          \n",
            "                                                                                                  \n",
            " activation_16 (Activation)     (None, 2, 2, 256)    0           ['add_7[0][0]']                  \n",
            "                                                                                                  \n",
            " conv2d_19 (Conv2D)             (None, 2, 2, 256)    590080      ['activation_16[0][0]']          \n",
            "                                                                                                  \n",
            " batch_normalization_17 (BatchN  (None, 2, 2, 256)   1024        ['conv2d_19[0][0]']              \n",
            " ormalization)                                                                                    \n",
            "                                                                                                  \n",
            " activation_17 (Activation)     (None, 2, 2, 256)    0           ['batch_normalization_17[0][0]'] \n",
            "                                                                                                  \n",
            " conv2d_20 (Conv2D)             (None, 2, 2, 256)    590080      ['activation_17[0][0]']          \n",
            "                                                                                                  \n",
            " batch_normalization_18 (BatchN  (None, 2, 2, 256)   1024        ['conv2d_20[0][0]']              \n",
            " ormalization)                                                                                    \n",
            "                                                                                                  \n",
            " add_8 (Add)                    (None, 2, 2, 256)    0           ['batch_normalization_18[0][0]', \n",
            "                                                                  'activation_16[0][0]']          \n",
            "                                                                                                  \n",
            " activation_18 (Activation)     (None, 2, 2, 256)    0           ['add_8[0][0]']                  \n",
            "                                                                                                  \n",
            " conv2d_21 (Conv2D)             (None, 1, 1, 512)    1180160     ['activation_18[0][0]']          \n",
            "                                                                                                  \n",
            " batch_normalization_19 (BatchN  (None, 1, 1, 512)   2048        ['conv2d_21[0][0]']              \n",
            " ormalization)                                                                                    \n",
            "                                                                                                  \n",
            " activation_19 (Activation)     (None, 1, 1, 512)    0           ['batch_normalization_19[0][0]'] \n",
            "                                                                                                  \n",
            " conv2d_22 (Conv2D)             (None, 1, 1, 512)    2359808     ['activation_19[0][0]']          \n",
            "                                                                                                  \n",
            " batch_normalization_20 (BatchN  (None, 1, 1, 512)   2048        ['conv2d_22[0][0]']              \n",
            " ormalization)                                                                                    \n",
            "                                                                                                  \n",
            " conv2d_23 (Conv2D)             (None, 1, 1, 512)    131584      ['activation_18[0][0]']          \n",
            "                                                                                                  \n",
            " add_9 (Add)                    (None, 1, 1, 512)    0           ['batch_normalization_20[0][0]', \n",
            "                                                                  'conv2d_23[0][0]']              \n",
            "                                                                                                  \n",
            " activation_20 (Activation)     (None, 1, 1, 512)    0           ['add_9[0][0]']                  \n",
            "                                                                                                  \n",
            " conv2d_24 (Conv2D)             (None, 1, 1, 512)    2359808     ['activation_20[0][0]']          \n",
            "                                                                                                  \n",
            " batch_normalization_21 (BatchN  (None, 1, 1, 512)   2048        ['conv2d_24[0][0]']              \n",
            " ormalization)                                                                                    \n",
            "                                                                                                  \n",
            " activation_21 (Activation)     (None, 1, 1, 512)    0           ['batch_normalization_21[0][0]'] \n",
            "                                                                                                  \n",
            " conv2d_25 (Conv2D)             (None, 1, 1, 512)    2359808     ['activation_21[0][0]']          \n",
            "                                                                                                  \n",
            " batch_normalization_22 (BatchN  (None, 1, 1, 512)   2048        ['conv2d_25[0][0]']              \n",
            " ormalization)                                                                                    \n",
            "                                                                                                  \n",
            " add_10 (Add)                   (None, 1, 1, 512)    0           ['batch_normalization_22[0][0]', \n",
            "                                                                  'activation_20[0][0]']          \n",
            "                                                                                                  \n",
            " activation_22 (Activation)     (None, 1, 1, 512)    0           ['add_10[0][0]']                 \n",
            "                                                                                                  \n",
            " conv2d_26 (Conv2D)             (None, 1, 1, 512)    2359808     ['activation_22[0][0]']          \n",
            "                                                                                                  \n",
            " batch_normalization_23 (BatchN  (None, 1, 1, 512)   2048        ['conv2d_26[0][0]']              \n",
            " ormalization)                                                                                    \n",
            "                                                                                                  \n",
            " activation_23 (Activation)     (None, 1, 1, 512)    0           ['batch_normalization_23[0][0]'] \n",
            "                                                                                                  \n",
            " conv2d_27 (Conv2D)             (None, 1, 1, 512)    2359808     ['activation_23[0][0]']          \n",
            "                                                                                                  \n",
            " batch_normalization_24 (BatchN  (None, 1, 1, 512)   2048        ['conv2d_27[0][0]']              \n",
            " ormalization)                                                                                    \n",
            "                                                                                                  \n",
            " add_11 (Add)                   (None, 1, 1, 512)    0           ['batch_normalization_24[0][0]', \n",
            "                                                                  'activation_22[0][0]']          \n",
            "                                                                                                  \n",
            " activation_24 (Activation)     (None, 1, 1, 512)    0           ['add_11[0][0]']                 \n",
            "                                                                                                  \n",
            " global_average_pooling2d (Glob  (None, 512)         0           ['activation_24[0][0]']          \n",
            " alAveragePooling2D)                                                                              \n",
            "                                                                                                  \n",
            " dense (Dense)                  (None, 256)          131328      ['global_average_pooling2d[0][0]'\n",
            "                                                                 ]                                \n",
            "                                                                                                  \n",
            " dropout (Dropout)              (None, 256)          0           ['dense[0][0]']                  \n",
            "                                                                                                  \n",
            " dense_1 (Dense)                (None, 10)           2570        ['dropout[0][0]']                \n",
            "                                                                                                  \n",
            "==================================================================================================\n",
            "Total params: 17,597,706\n",
            "Trainable params: 17,586,058\n",
            "Non-trainable params: 11,648\n",
            "__________________________________________________________________________________________________\n"
          ]
        }
      ]
    },
    {
      "cell_type": "code",
      "source": [
        "# Train the ResNet model using the CIFAR-10 training dataset\n",
        "resnet_model.fit(x_train, y_train, batch_size=32, epochs=10, validation_data=(x_test, y_test))\n"
      ],
      "metadata": {
        "colab": {
          "base_uri": "https://localhost:8080/"
        },
        "id": "-FrKWMj7VPO4",
        "outputId": "88d07339-6072-4b4a-df40-8a9ff294ff53"
      },
      "execution_count": null,
      "outputs": [
        {
          "output_type": "stream",
          "name": "stdout",
          "text": [
            "Epoch 1/10\n",
            "1563/1563 [==============================] - 2480s 2s/step - loss: 1.8767 - accuracy: 0.3185 - val_loss: 1.6384 - val_accuracy: 0.3773\n",
            "Epoch 2/10\n",
            "1563/1563 [==============================] - 2465s 2s/step - loss: 1.6286 - accuracy: 0.4216 - val_loss: 1.8380 - val_accuracy: 0.3631\n",
            "Epoch 3/10\n",
            "1563/1563 [==============================] - 2471s 2s/step - loss: 1.5380 - accuracy: 0.4529 - val_loss: 1.6106 - val_accuracy: 0.4310\n",
            "Epoch 4/10\n",
            "1057/1563 [===================>..........] - ETA: 13:19 - loss: 1.4293 - accuracy: 0.4909"
          ]
        }
      ]
    },
    {
      "cell_type": "code",
      "source": [
        "test_loss, test_acc = model.evaluate(x_test, y_test)\n",
        "print('Test Loss:', test_loss)\n",
        "print('Test Accuracy:', test_acc)\n"
      ],
      "metadata": {
        "colab": {
          "base_uri": "https://localhost:8080/"
        },
        "id": "jUxXzp6qRDbT",
        "outputId": "f4975627-564e-4498-d725-62be294e4c06"
      },
      "execution_count": null,
      "outputs": [
        {
          "output_type": "stream",
          "name": "stdout",
          "text": [
            "313/313 [==============================] - 3s 9ms/step - loss: 1.1505 - accuracy: 0.6188\n",
            "Test Loss: 1.1505303382873535\n",
            "Test Accuracy: 0.6187999844551086\n"
          ]
        }
      ]
    },
    {
      "cell_type": "code",
      "source": [
        "\n",
        "# Define a dictionary to map the numeric labels to their corresponding class names\n",
        "class_names = {\n",
        "    0: \"airplane\",\n",
        "    1: \"automobile\",\n",
        "    2: \"bird\",\n",
        "    3: \"cat\",\n",
        "    4: \"deer\",\n",
        "    5: \"dog\",\n",
        "    6: \"frog\",\n",
        "    7: \"horse\",\n",
        "    8: \"ship\",\n",
        "    9: \"truck\"\n",
        "}\n",
        "\n",
        "# Select a random sample of images to display\n",
        "num_samples = 5\n",
        "random_indices = np.random.choice(len(x_train), num_samples)\n",
        "\n",
        "# Display the images and their corresponding labels\n",
        "for i in range(num_samples):\n",
        "    image = x_train[random_indices[i]]\n",
        "    label = y_train[random_indices[i]]\n",
        "\n",
        "    # Convert the one-hot encoded label to a numeric class label\n",
        "    class_label = np.argmax(label)\n",
        "\n",
        "    # Plot the image\n",
        "    plt.figure(figsize=(2, 2))\n",
        "    plt.imshow(image)\n",
        "    plt.axis('off')\n",
        "\n",
        "    # Set the title as the corresponding class name\n",
        "    plt.title(class_names[class_label])\n",
        "\n",
        "    # Show the plot\n",
        "    plt.show()\n"
      ],
      "metadata": {
        "colab": {
          "base_uri": "https://localhost:8080/",
          "height": 997
        },
        "id": "yMaF--HrFbw5",
        "outputId": "6a58d2a6-de31-4cb8-bf45-504e3c8f755a"
      },
      "execution_count": null,
      "outputs": [
        {
          "output_type": "display_data",
          "data": {
            "text/plain": [
              "<Figure size 200x200 with 1 Axes>"
            ],
            "image/png": "[encoded data removed]"
          },
          "metadata": {}
        },
        {
          "output_type": "display_data",
          "data": {
            "text/plain": [
              "<Figure size 200x200 with 1 Axes>"
            ],
            "image/png": "[encoded data removed]"
          },
          "metadata": {}
        },
        {
          "output_type": "display_data",
          "data": {
            "text/plain": [
              "<Figure size 200x200 with 1 Axes>"
            ],
            "image/png": "[encoded data removed]"
          },
          "metadata": {}
        },
        {
          "output_type": "display_data",
          "data": {
            "text/plain": [
              "<Figure size 200x200 with 1 Axes>"
            ],
            "image/png": "[encoded data removed]"
          },
          "metadata": {}
        },
        {
          "output_type": "display_data",
          "data": {
            "text/plain": [
              "<Figure size 200x200 with 1 Axes>"
            ],
            "image/png": "[encoded data removed]"
          },
          "metadata": {}
        }
      ]
    }
  ]
}