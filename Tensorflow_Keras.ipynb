{
  "nbformat": 4,
  "nbformat_minor": 0,
  "metadata": {
    "colab": {
      "provenance": [],
      "mount_file_id": "1zTXmX_Vi0c0Em-gAOBb04Aul1_nTk3MA",
      "authorship_tag": "ABX9TyM9KeLcRDJfUkxLvyGDKxpy",
      "include_colab_link": true
    },
    "kernelspec": {
      "name": "python3",
      "display_name": "Python 3"
    },
    "language_info": {
      "name": "python"
    }
  },
  "cells": [
    {
      "cell_type": "markdown",
      "metadata": {
        "id": "view-in-github",
        "colab_type": "text"
      },
      "source": [
        "<a href=\"https://colab.research.google.com/github/Farshad127/Machine-Vision/blob/main/Tensorflow_Keras.ipynb\" target=\"_parent\"><img src=\"https://colab.research.google.com/assets/colab-badge.svg\" alt=\"Open In Colab\"/></a>"
      ]
    },
    {
      "cell_type": "code",
      "execution_count": 17,
      "metadata": {
        "id": "I3xTcSIJ_wfX"
      },
      "outputs": [],
      "source": [
        "import pickle\n",
        "import numpy as np\n",
        "import tensorflow as tf\n",
        "from tensorflow import keras\n",
        "\n",
        "import pandas as pd\n",
        "import matplotlib.pyplot as plt"
      ]
    },
    {
      "cell_type": "code",
      "source": [
        "#Function for reading the batch files\n",
        "def load_cifar10_batch(file_path):\n",
        "    with open(file_path, 'rb') as file:\n",
        "        batch = pickle.load(file, encoding='bytes')\n",
        "    return batch"
      ],
      "metadata": {
        "id": "K9G00sWAESex"
      },
      "execution_count": null,
      "outputs": []
    },
    {
      "cell_type": "code",
      "source": [
        "# Specify the paths to the CIFAR-10 dataset batches\n",
        "file_paths = [\n",
        "    '/content/drive/MyDrive/Colab Notebooks/cifar-10-batches-py/data_batch_1',\n",
        "    '/content/drive/MyDrive/Colab Notebooks/cifar-10-batches-py/data_batch_2',\n",
        "    '/content/drive/MyDrive/Colab Notebooks/cifar-10-batches-py/data_batch_3',\n",
        "    '/content/drive/MyDrive/Colab Notebooks/cifar-10-batches-py/data_batch_4',\n",
        "    '/content/drive/MyDrive/Colab Notebooks/cifar-10-batches-py/data_batch_5'\n",
        "]\n",
        "\n",
        "\n",
        "# Load and concatenate the CIFAR-10 batches\n",
        "images = []\n",
        "labels = []\n",
        "\n",
        "for file_path in file_paths:\n",
        "    cifar_batch = load_cifar10_batch(file_path)\n",
        "    images.append(cifar_batch[b'data'])\n",
        "    labels.extend(cifar_batch[b'labels'])\n",
        "\n",
        "\n",
        "# Concatenate the batches into a single training dataset\n",
        "x_train = np.concatenate(images, axis=0)\n",
        "y_train = np.array(labels)\n",
        "\n",
        "print(np.shape(x_train))\n",
        "print(np.shape(y_train))\n",
        "x_train"
      ],
      "metadata": {
        "colab": {
          "base_uri": "https://localhost:8080/"
        },
        "id": "LgT39RsQFWI0",
        "outputId": "6c3c5295-ed10-46cb-d1f4-dc5796c50d5a"
      },
      "execution_count": null,
      "outputs": [
        {
          "output_type": "stream",
          "name": "stdout",
          "text": [
            "(50000, 3072)\n",
            "(50000,)\n"
          ]
        },
        {
          "output_type": "execute_result",
          "data": {
            "text/plain": [
              "array([[ 59,  43,  50, ..., 140,  84,  72],\n",
              "       [154, 126, 105, ..., 139, 142, 144],\n",
              "       [255, 253, 253, ...,  83,  83,  84],\n",
              "       ...,\n",
              "       [ 35,  40,  42, ...,  77,  66,  50],\n",
              "       [189, 186, 185, ..., 169, 171, 171],\n",
              "       [229, 236, 234, ..., 173, 162, 161]], dtype=uint8)"
            ]
          },
          "metadata": {},
          "execution_count": 8
        }
      ]
    },
    {
      "cell_type": "code",
      "source": [
        "# Load the CIFAR-10 test_batch\n",
        "\n",
        "test_cifar_batch = load_cifar10_batch('/content/drive/MyDrive/Colab Notebooks/cifar-10-batches-py/test_batch')\n",
        "\n",
        "test_images = []\n",
        "test_labels =[]\n",
        "test_images.append(test_cifar_batch[b'data'])\n",
        "test_labels.extend(test_cifar_batch[b'labels'])\n",
        "\n",
        "# Concatenate x_test\n",
        "\n",
        "x_test = np.concatenate (test_images, axis=0)\n",
        "y_test = test_labels\n",
        "\n",
        "print(np.shape(x_test))\n",
        "print(np.shape(y_test))\n",
        "x_test\n"
      ],
      "metadata": {
        "colab": {
          "base_uri": "https://localhost:8080/"
        },
        "id": "cypoAbCzIByc",
        "outputId": "64156b71-4d44-43f2-ec71-376f91c8783b"
      },
      "execution_count": null,
      "outputs": [
        {
          "output_type": "stream",
          "name": "stdout",
          "text": [
            "(10000, 3072)\n",
            "(10000,)\n"
          ]
        },
        {
          "output_type": "execute_result",
          "data": {
            "text/plain": [
              "array([[158, 159, 165, ..., 124, 129, 110],\n",
              "       [235, 231, 232, ..., 178, 191, 199],\n",
              "       [158, 158, 139, ...,   8,   3,   7],\n",
              "       ...,\n",
              "       [ 20,  19,  15, ...,  50,  53,  47],\n",
              "       [ 25,  15,  23, ...,  80,  81,  80],\n",
              "       [ 73,  98,  99, ...,  94,  58,  26]], dtype=uint8)"
            ]
          },
          "metadata": {},
          "execution_count": 9
        }
      ]
    },
    {
      "cell_type": "code",
      "source": [
        "# Reshape the input data\n",
        "x_train = np.reshape(x_train, (-1, 32, 32, 3))\n",
        "x_test = np.reshape(x_test, (-1, 32, 32, 3))\n",
        "\n",
        "\n",
        "print('x_train')\n",
        "print(np.shape(x_train))\n",
        "print('-----------------------')\n",
        "print('x_test_reshape')\n",
        "#print(np.shape(x_train_reshape))\n",
        "\n",
        "#x_test_reshape = np.reshape(x_test, (-1, 32, 32, 3))\n",
        "print(np.shape(x_test))"
      ],
      "metadata": {
        "colab": {
          "base_uri": "https://localhost:8080/"
        },
        "id": "K1RCQpvVbZxo",
        "outputId": "eb84fd68-753e-4494-a9a6-afcaa395c9b3"
      },
      "execution_count": null,
      "outputs": [
        {
          "output_type": "stream",
          "name": "stdout",
          "text": [
            "x_train\n",
            "(50000, 32, 32, 3)\n",
            "-----------------------\n",
            "x_test_reshape\n",
            "(10000, 32, 32, 3)\n"
          ]
        }
      ]
    },
    {
      "cell_type": "code",
      "source": [
        "# Normalize pixel values between 0 and 1\n",
        "x_train = x_train.astype('float32') / 255\n",
        "x_test = x_test.astype('float32') / 255\n",
        "\n",
        "\n",
        "# Convert class vectors to binary class matrices\n",
        "y_train = keras.utils.to_categorical(y_train, num_classes=10)\n",
        "y_test = keras.utils.to_categorical(y_test, num_classes=10)\n",
        "\n",
        "\n"
      ],
      "metadata": {
        "id": "hMi4iGtSL7V2"
      },
      "execution_count": null,
      "outputs": []
    },
    {
      "cell_type": "code",
      "source": [
        "#Just for testing the Hot Encoding function for my data\n",
        "#y_train_hot = keras.utils.to_categorical(y_train, num_classes=10)\n",
        "#print(y_train_hot)\n",
        "#print(y_train)\n",
        "#print(np.shape(y_train))\n",
        "#print(np.shape(y_train_hot))"
      ],
      "metadata": {
        "id": "YB9ctyodRSFs"
      },
      "execution_count": null,
      "outputs": []
    },
    {
      "cell_type": "code",
      "source": [
        "# Using Pandas library for better understanding the matrix\n",
        "\n",
        "#df = pd.DataFrame(y_train)\n",
        "#df\n",
        "#np.shape(y_train)"
      ],
      "metadata": {
        "colab": {
          "base_uri": "https://localhost:8080/"
        },
        "id": "_8dZIVU5SPyO",
        "outputId": "f0cb0e31-39af-454b-e26a-ada1495d67a0"
      },
      "execution_count": null,
      "outputs": [
        {
          "output_type": "execute_result",
          "data": {
            "text/plain": [
              "(30000, 10)"
            ]
          },
          "metadata": {},
          "execution_count": 21
        }
      ]
    },
    {
      "cell_type": "code",
      "source": [
        "# Define and Compile CNN Model Architecture: using the TensorFlow or Keras API\n",
        "# CNN model with a convolutional layer, pooling layer, flatten layer, and two fully connected (dense) layers.\n",
        "\n",
        "model = keras.models.Sequential([\n",
        "    keras.layers.Conv2D(32, (3, 3), activation='relu', padding='same', input_shape=(32, 32, 3)),\n",
        "    keras.layers.MaxPooling2D((2, 2)),\n",
        "    keras.layers.Flatten(),\n",
        "    keras.layers.Dense(64, activation='relu'),\n",
        "    keras.layers.Dense(10, activation='softmax')\n",
        "])\n",
        "\n",
        "model.compile(optimizer='adam', loss='categorical_crossentropy', metrics=['accuracy'])\n"
      ],
      "metadata": {
        "id": "X9MJfBaOU8WL"
      },
      "execution_count": null,
      "outputs": []
    },
    {
      "cell_type": "code",
      "source": [
        "# Train the CNN model using the CIFAR-10 training dataset\n",
        "model.fit(x_train, y_train, batch_size=32, epochs=10, validation_data=(x_test, y_test))"
      ],
      "metadata": {
        "colab": {
          "base_uri": "https://localhost:8080/"
        },
        "id": "-FrKWMj7VPO4",
        "outputId": "433b703b-6abf-4d66-a0ef-abcee9052e64"
      },
      "execution_count": null,
      "outputs": [
        {
          "output_type": "stream",
          "name": "stdout",
          "text": [
            "Epoch 1/10\n",
            "1563/1563 [==============================] - 66s 41ms/step - loss: 1.5632 - accuracy: 0.4436 - val_loss: 1.4176 - val_accuracy: 0.4891\n",
            "Epoch 2/10\n",
            "1563/1563 [==============================] - 62s 40ms/step - loss: 1.2679 - accuracy: 0.5584 - val_loss: 1.2332 - val_accuracy: 0.5681\n",
            "Epoch 3/10\n",
            "1563/1563 [==============================] - 58s 37ms/step - loss: 1.1647 - accuracy: 0.5984 - val_loss: 1.1984 - val_accuracy: 0.5853\n",
            "Epoch 4/10\n",
            "1563/1563 [==============================] - 58s 37ms/step - loss: 1.0976 - accuracy: 0.6216 - val_loss: 1.1640 - val_accuracy: 0.5970\n",
            "Epoch 5/10\n",
            "1563/1563 [==============================] - 56s 36ms/step - loss: 1.0476 - accuracy: 0.6402 - val_loss: 1.1307 - val_accuracy: 0.6037\n",
            "Epoch 6/10\n",
            "1563/1563 [==============================] - 54s 35ms/step - loss: 0.9955 - accuracy: 0.6567 - val_loss: 1.1758 - val_accuracy: 0.5967\n",
            "Epoch 7/10\n",
            "1563/1563 [==============================] - 61s 39ms/step - loss: 0.9532 - accuracy: 0.6701 - val_loss: 1.1353 - val_accuracy: 0.6074\n",
            "Epoch 8/10\n",
            "1563/1563 [==============================] - 56s 36ms/step - loss: 0.9146 - accuracy: 0.6831 - val_loss: 1.1490 - val_accuracy: 0.6073\n",
            "Epoch 9/10\n",
            "1563/1563 [==============================] - 56s 36ms/step - loss: 0.8725 - accuracy: 0.6985 - val_loss: 1.1528 - val_accuracy: 0.6117\n",
            "Epoch 10/10\n",
            "1563/1563 [==============================] - 57s 36ms/step - loss: 0.8374 - accuracy: 0.7109 - val_loss: 1.2232 - val_accuracy: 0.5912\n"
          ]
        },
        {
          "output_type": "execute_result",
          "data": {
            "text/plain": [
              "<keras.callbacks.History at 0x7f473015fa60>"
            ]
          },
          "metadata": {},
          "execution_count": 14
        }
      ]
    },
    {
      "cell_type": "code",
      "source": [
        "test_loss, test_acc = model.evaluate(x_test, y_test)\n",
        "print('Test Loss:', test_loss)\n",
        "print('Test Accuracy:', test_acc)\n"
      ],
      "metadata": {
        "colab": {
          "base_uri": "https://localhost:8080/"
        },
        "id": "jUxXzp6qRDbT",
        "outputId": "f4975627-564e-4498-d725-62be294e4c06"
      },
      "execution_count": null,
      "outputs": [
        {
          "output_type": "stream",
          "name": "stdout",
          "text": [
            "313/313 [==============================] - 3s 9ms/step - loss: 1.1505 - accuracy: 0.6188\n",
            "Test Loss: 1.1505303382873535\n",
            "Test Accuracy: 0.6187999844551086\n"
          ]
        }
      ]
    },
    {
      "cell_type": "code",
      "source": [
        "# Define a dictionary to map the numeric labels to their corresponding class names\n",
        "class_names = {\n",
        "    0: \"airplane\",\n",
        "    1: \"automobile\",\n",
        "    2: \"bird\",\n",
        "    3: \"cat\",\n",
        "    4: \"deer\",\n",
        "    5: \"dog\",\n",
        "    6: \"frog\",\n",
        "    7: \"horse\",\n",
        "    8: \"ship\",\n",
        "    9: \"truck\"\n",
        "}\n",
        "num_samples = 5\n",
        "random_indices = np.random.choice(len(x_train), num_samples)\n",
        "\n",
        "label = y_train[random_indices[3]]\n",
        "print(label)\n",
        "\n",
        "class_label = np.argmax(label)\n",
        "class_label\n",
        "\n",
        "\n",
        "class_names[class_label]"
      ],
      "metadata": {
        "colab": {
          "base_uri": "https://localhost:8080/",
          "height": 53
        },
        "id": "yZX0cpgJFtQ1",
        "outputId": "ca40fb4e-da91-48f1-829a-b7b652602852"
      },
      "execution_count": 42,
      "outputs": [
        {
          "output_type": "stream",
          "name": "stdout",
          "text": [
            "[0. 0. 0. 0. 1. 0. 0. 0. 0. 0.]\n"
          ]
        },
        {
          "output_type": "execute_result",
          "data": {
            "text/plain": [
              "'deer'"
            ],
            "application/vnd.google.colaboratory.intrinsic+json": {
              "type": "string"
            }
          },
          "metadata": {},
          "execution_count": 42
        }
      ]
    },
    {
      "cell_type": "code",
      "source": [
        "\n",
        "# Define a dictionary to map the numeric labels to their corresponding class names\n",
        "class_names = {\n",
        "    0: \"airplane\",\n",
        "    1: \"automobile\",\n",
        "    2: \"bird\",\n",
        "    3: \"cat\",\n",
        "    4: \"deer\",\n",
        "    5: \"dog\",\n",
        "    6: \"frog\",\n",
        "    7: \"horse\",\n",
        "    8: \"ship\",\n",
        "    9: \"truck\"\n",
        "}\n",
        "\n",
        "# Select a random sample of images to display\n",
        "num_samples = 5\n",
        "random_indices = np.random.choice(len(x_train), num_samples)\n",
        "\n",
        "# Display the images and their corresponding labels\n",
        "for i in range(num_samples):\n",
        "    image = x_train[random_indices[i]]\n",
        "    label = y_train[random_indices[i]]\n",
        "\n",
        "    # Convert the one-hot encoded label to a numeric class label\n",
        "    class_label = np.argmax(label)\n",
        "\n",
        "    # Plot the image\n",
        "    plt.figure(figsize=(2, 2))\n",
        "    plt.imshow(image)\n",
        "    plt.axis('off')\n",
        "\n",
        "    # Set the title as the corresponding class name\n",
        "    plt.title(class_names[class_label])\n",
        "\n",
        "    # Show the plot\n",
        "    plt.show()\n"
      ],
      "metadata": {
        "colab": {
          "base_uri": "https://localhost:8080/",
          "height": 997
        },
        "id": "yMaF--HrFbw5",
        "outputId": "6b727da3-8017-44b1-80b4-202106eed93c"
      },
      "execution_count": 48,
      "outputs": [
        {
          "output_type": "display_data",
          "data": {
            "text/plain": [
              "<Figure size 200x200 with 1 Axes>"
            ],
            "image/png": "[encoded data removed]"
          },
          "metadata": {}
        },
        {
          "output_type": "display_data",
          "data": {
            "text/plain": [
              "<Figure size 200x200 with 1 Axes>"
            ],
            "image/png": "[encoded data removed]"
          },
          "metadata": {}
        },
        {
          "output_type": "display_data",
          "data": {
            "text/plain": [
              "<Figure size 200x200 with 1 Axes>"
            ],
            "image/png": "[encoded data removed]"
          },
          "metadata": {}
        },
        {
          "output_type": "display_data",
          "data": {
            "text/plain": [
              "<Figure size 200x200 with 1 Axes>"
            ],
            "image/png": "[encoded data removed]"
          },
          "metadata": {}
        },
        {
          "output_type": "display_data",
          "data": {
            "text/plain": [
              "<Figure size 200x200 with 1 Axes>"
            ],
            "image/png": "[encoded data removed]"
          },
          "metadata": {}
        }
      ]
    }
  ]
}